{
 "cells": [
  {
   "cell_type": "markdown",
   "metadata": {},
   "source": [
    "This is an example that converts CSV files to parquet format."
   ]
  },
  {
   "cell_type": "code",
   "execution_count": 1,
   "metadata": {
    "collapsed": true
   },
   "outputs": [],
   "source": [
    "from pyspark.sql.functions import monotonically_increasing_id"
   ]
  },
  {
   "cell_type": "code",
   "execution_count": 2,
   "metadata": {},
   "outputs": [
    {
     "name": "stdout",
     "output_type": "stream",
     "text": [
      "+---------+--------------------+\n",
      "|sentiment|                text|\n",
      "+---------+--------------------+\n",
      "|        1|The Da Vinci Code...|\n",
      "|        1|this was the firs...|\n",
      "|        1|i liked the Da Vi...|\n",
      "|        1|i liked the Da Vi...|\n",
      "|        1|I liked the Da Vi...|\n",
      "|        1|that's not even a...|\n",
      "|        1|I loved the Da Vi...|\n",
      "|        1|i thought da vinc...|\n",
      "|        1|The Da Vinci Code...|\n",
      "|        1|I thought the Da ...|\n",
      "|        1|The Da Vinci Code...|\n",
      "|        1|The Da Vinci Code...|\n",
      "|        1|then I turn on th...|\n",
      "|        1|The Da Vinci Code...|\n",
      "|        1|i love da vinci c...|\n",
      "|        1|i loved da vinci ...|\n",
      "|        1|TO NIGHT:: THE DA...|\n",
      "|        1|THE DA VINCI CODE...|\n",
      "|        1|Thing is, I enjoy...|\n",
      "|        1|very da vinci cod...|\n",
      "+---------+--------------------+\n",
      "only showing top 20 rows\n",
      "\n"
     ]
    }
   ],
   "source": [
    "#Load the input data in CSV format\n",
    "home_path = \"file:///\" + os.getcwd() + \"/../../../../\"\n",
    "file_path = home_path + \\\n",
    "            \"spark-nlp-models/src/main/resources/datasets/training.txt\"\n",
    "delimiter = \"\\t\"\n",
    "data = spark. \\\n",
    "        read. \\\n",
    "        format(\"csv\"). \\\n",
    "        option(\"delimiter\", delimiter). \\\n",
    "        load(file_path). \\\n",
    "        selectExpr(\"_c0 as sentiment\", \"_c1 as text\")\n",
    "data.cache()\n",
    "data.count()\n",
    "data.show()"
   ]
  },
  {
   "cell_type": "code",
   "execution_count": 3,
   "metadata": {},
   "outputs": [
    {
     "name": "stdout",
     "output_type": "stream",
     "text": [
      "+---+--------------------+---------+\n",
      "| id|                text|sentiment|\n",
      "+---+--------------------+---------+\n",
      "|  0|The Da Vinci Code...|        1|\n",
      "|  1|this was the firs...|        1|\n",
      "|  2|i liked the Da Vi...|        1|\n",
      "|  3|i liked the Da Vi...|        1|\n",
      "|  4|I liked the Da Vi...|        1|\n",
      "|  5|that's not even a...|        1|\n",
      "|  6|I loved the Da Vi...|        1|\n",
      "|  7|i thought da vinc...|        1|\n",
      "|  8|The Da Vinci Code...|        1|\n",
      "|  9|I thought the Da ...|        1|\n",
      "| 10|The Da Vinci Code...|        1|\n",
      "| 11|The Da Vinci Code...|        1|\n",
      "| 12|then I turn on th...|        1|\n",
      "| 13|The Da Vinci Code...|        1|\n",
      "| 14|i love da vinci c...|        1|\n",
      "| 15|i loved da vinci ...|        1|\n",
      "| 16|TO NIGHT:: THE DA...|        1|\n",
      "| 17|THE DA VINCI CODE...|        1|\n",
      "| 18|Thing is, I enjoy...|        1|\n",
      "| 19|very da vinci cod...|        1|\n",
      "+---+--------------------+---------+\n",
      "only showing top 20 rows\n",
      "\n"
     ]
    }
   ],
   "source": [
    "data = data.select(\"*\").withColumn(\"id\", monotonically_increasing_id())\n",
    "data = data.select(\"id\", \"text\", \"sentiment\")\n",
    "data.show()"
   ]
  },
  {
   "cell_type": "markdown",
   "metadata": {},
   "source": [
    "Generating parquet format"
   ]
  },
  {
   "cell_type": "code",
   "execution_count": 4,
   "metadata": {
    "collapsed": true
   },
   "outputs": [],
   "source": [
    "file_path = home_path + \\\n",
    "            \"spark-nlp-models/src/main/resources/datasets/training.parquet\"\n",
    "data.write \\\n",
    "    .mode(\"overwrite\") \\\n",
    "    .parquet(file_path)"
   ]
  },
  {
   "cell_type": "markdown",
   "metadata": {},
   "source": [
    "Load data stored as parquet format"
   ]
  },
  {
   "cell_type": "code",
   "execution_count": 5,
   "metadata": {},
   "outputs": [
    {
     "name": "stdout",
     "output_type": "stream",
     "text": [
      "+---+--------------------+---------+\n",
      "| id|                text|sentiment|\n",
      "+---+--------------------+---------+\n",
      "|  0|The Da Vinci Code...|        1|\n",
      "|  1|this was the firs...|        1|\n",
      "|  2|i liked the Da Vi...|        1|\n",
      "|  3|i liked the Da Vi...|        1|\n",
      "|  4|I liked the Da Vi...|        1|\n",
      "|  5|that's not even a...|        1|\n",
      "|  6|I loved the Da Vi...|        1|\n",
      "|  7|i thought da vinc...|        1|\n",
      "|  8|The Da Vinci Code...|        1|\n",
      "|  9|I thought the Da ...|        1|\n",
      "| 10|The Da Vinci Code...|        1|\n",
      "| 11|The Da Vinci Code...|        1|\n",
      "| 12|then I turn on th...|        1|\n",
      "| 13|The Da Vinci Code...|        1|\n",
      "| 14|i love da vinci c...|        1|\n",
      "| 15|i loved da vinci ...|        1|\n",
      "| 16|TO NIGHT:: THE DA...|        1|\n",
      "| 17|THE DA VINCI CODE...|        1|\n",
      "| 18|Thing is, I enjoy...|        1|\n",
      "| 19|very da vinci cod...|        1|\n",
      "+---+--------------------+---------+\n",
      "only showing top 20 rows\n",
      "\n"
     ]
    }
   ],
   "source": [
    "#Load the input data in parquet format\n",
    "data = spark. \\\n",
    "        read. \\\n",
    "        parquet(file_path)\n",
    "data.cache()\n",
    "data.count()\n",
    "data.show()"
   ]
  }
 ],
 "metadata": {
  "kernelspec": {
   "display_name": "Python 3",
   "language": "python",
   "name": "python3"
  },
  "language_info": {
   "codemirror_mode": {
    "name": "ipython",
    "version": 3
   },
   "file_extension": ".py",
   "mimetype": "text/x-python",
   "name": "python",
   "nbconvert_exporter": "python",
   "pygments_lexer": "ipython3",
   "version": "3.6.3"
  }
 },
 "nbformat": 4,
 "nbformat_minor": 2
}
