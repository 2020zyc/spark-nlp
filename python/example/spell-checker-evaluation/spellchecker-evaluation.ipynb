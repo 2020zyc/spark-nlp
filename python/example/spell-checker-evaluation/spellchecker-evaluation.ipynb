{
 "cells": [
  {
   "cell_type": "code",
   "execution_count": 208,
   "metadata": {},
   "outputs": [
    {
     "name": "stdout",
     "output_type": "stream",
     "text": [
      "+------+---------+--------------------+\n",
      "|itemid|sentiment|                text|\n",
      "+------+---------+--------------------+\n",
      "|     1|        0|                 ...|\n",
      "|     2|        0|                 ...|\n",
      "|     3|        1|              omg...|\n",
      "|     4|        0|          .. Omga...|\n",
      "|     5|        0|         i think ...|\n",
      "+------+---------+--------------------+\n",
      "only showing top 5 rows\n",
      "\n"
     ]
    }
   ],
   "source": [
    "#Load the input data to be annotated\n",
    "data = spark. \\\n",
    "        read. \\\n",
    "        parquet(\"file:///\" + os.getcwd() + \"/../../../src/test/resources/sentiment.parquet\"). \\\n",
    "        limit(300)\n",
    "data.cache()\n",
    "data.count()\n",
    "data.show(5)"
   ]
  },
  {
   "cell_type": "code",
   "execution_count": 210,
   "metadata": {},
   "outputs": [
    {
     "name": "stdout",
     "output_type": "stream",
     "text": [
      "+------+--------------------+\n",
      "|itemid|            original|\n",
      "+------+--------------------+\n",
      "|     1|                 ...|\n",
      "|     2|                 ...|\n",
      "|     3|              omg...|\n",
      "|     4|          .. Omga...|\n",
      "|     5|         i think ...|\n",
      "+------+--------------------+\n",
      "only showing top 5 rows\n",
      "\n"
     ]
    }
   ],
   "source": [
    "from pyspark.sql import functions as F\n",
    "\n",
    "data = data.select(\"itemid\", F.col(\"text\").alias(\"original\"))\n",
    "data.show(5)"
   ]
  },
  {
   "cell_type": "code",
   "execution_count": 3,
   "metadata": {},
   "outputs": [
    {
     "name": "stdout",
     "output_type": "stream",
     "text": [
      "Data twitter_posts exported\n"
     ]
    }
   ],
   "source": [
    "def exportData(data, name, header=\"false\"):\n",
    "        \"\"\"\n",
    "        This method exports the data to disk\n",
    "        :param data: dataset to export\n",
    "        :param name: name of the file\n",
    "        \"\"\"\n",
    "        data.write \\\n",
    "            .format(\"com.databricks.spark.csv\") \\\n",
    "            .option(\"header\", header) \\\n",
    "            .mode(\"overwrite\") \\\n",
    "            .save(\"/home/danilo/Documents/JSL/PublicDatasets/\"+name)\n",
    "        print(f\"Data {name} exported\")\n",
    "\n",
    "        \n",
    "exportData(data, \"twitter_posts\")"
   ]
  },
  {
   "cell_type": "markdown",
   "metadata": {},
   "source": [
    "Get the result of JSL Spell Checker"
   ]
  },
  {
   "cell_type": "code",
   "execution_count": 318,
   "metadata": {
    "collapsed": true
   },
   "outputs": [],
   "source": [
    "import sys\n",
    "sys.path.append('../../')\n",
    "\n",
    "from sparknlp.annotator import *\n",
    "from sparknlp.base import DocumentAssembler, Finisher\n",
    "from pyspark.ml import Pipeline\n",
    "\n",
    "\n",
    "### Define the dataframe\n",
    "document_assembler = DocumentAssembler() \\\n",
    "                    .setInputCol(\"original\")\n",
    "\n",
    "tokenizer = Tokenizer() \\\n",
    "            .setInputCols([\"document\"]) \\\n",
    "            .setOutputCol(\"token\")\n",
    "\n",
    "normalizer = Normalizer() \\\n",
    "            .setInputCols([\"token\"]) \\\n",
    "            .setOutputCol(\"normal\")\n",
    "        \n",
    "pipeline = Pipeline(stages=[document_assembler,\n",
    "                           tokenizer,\n",
    "                           normalizer])"
   ]
  },
  {
   "cell_type": "code",
   "execution_count": 319,
   "metadata": {
    "collapsed": true
   },
   "outputs": [],
   "source": [
    "ready_data = pipeline.fit(data).transform(data)"
   ]
  },
  {
   "cell_type": "code",
   "execution_count": 320,
   "metadata": {},
   "outputs": [
    {
     "name": "stdout",
     "output_type": "stream",
     "text": [
      "+------+--------------------+--------------------+--------------------+--------------------+\n",
      "|itemid|            original|            document|               token|              normal|\n",
      "+------+--------------------+--------------------+--------------------+--------------------+\n",
      "|     1|                 ...|[[document,0,60, ...|[[token,21,22,is,...|[[token,21,22,is,...|\n",
      "|     2|                 ...|[[document,0,50, ...|[[token,19,19,I,M...|[[token,19,19,i,M...|\n",
      "|     3|              omg...|[[document,0,36, ...|[[token,14,16,omg...|[[token,14,16,omg...|\n",
      "|     4|          .. Omga...|[[document,0,131,...|[[token,10,11,..,...|[[token,13,18,omg...|\n",
      "|     5|         i think ...|[[document,0,52, ...|[[token,9,9,i,Map...|[[token,9,9,i,Map...|\n",
      "+------+--------------------+--------------------+--------------------+--------------------+\n",
      "only showing top 5 rows\n",
      "\n"
     ]
    }
   ],
   "source": [
    "ready_data.show(5)"
   ]
  },
  {
   "cell_type": "code",
   "execution_count": 321,
   "metadata": {},
   "outputs": [],
   "source": [
    "# Spell Checker\n",
    "home_path = \"file:///\" + os.getcwd() + \"/../../../../\"\n",
    "corpus = home_path + \\\n",
    "         \"spark-nlp-models/src/main/resources/spell/wiki1_en.txt\"     \n",
    "# \"spark-nlp/src/test/resources/spell/sherlockholmes.txt\"\n",
    "\n",
    "dictionary = home_path + \\\n",
    "             \"spark-nlp-models/src/main/resources/spell/words.txt\"\n",
    "spell_checker = NorvigSweetingApproach() \\\n",
    "            .setInputCols([\"normal\"]) \\\n",
    "            .setOutputCol(\"spell\") \\\n",
    "            .setDictionary(dictionary) \\\n",
    "            .setCorpus(corpus) \\\n",
    "            .setShortCircuit(True) \\\n",
    "            .setDoubleVariants(True)"
   ]
  },
  {
   "cell_type": "code",
   "execution_count": 322,
   "metadata": {
    "collapsed": true
   },
   "outputs": [],
   "source": [
    "finisher = Finisher() \\\n",
    "    .setInputCols([\"spell\"]) \\\n",
    "    .setIncludeKeys(False)\n",
    "    \n",
    "pipeline = Pipeline(stages=[document_assembler,\n",
    "                           tokenizer,\n",
    "                           normalizer,\n",
    "                           spell_checker,\n",
    "                           finisher])\n",
    "\n",
    "ready_data = pipeline.fit(data).transform(data)"
   ]
  },
  {
   "cell_type": "code",
   "execution_count": 323,
   "metadata": {},
   "outputs": [
    {
     "name": "stdout",
     "output_type": "stream",
     "text": [
      "+------+--------------------+--------------------+\n",
      "|itemid|            original|      finished_spell|\n",
      "+------+--------------------+--------------------+\n",
      "|     1|                 ...|is@so@sad@for@my@...|\n",
      "|     2|                 ...|i@missed@the@new@...|\n",
      "|     3|              omg...|   omg@its@already@o|\n",
      "|     4|          .. Omga...|omgaga@im@so@im@g...|\n",
      "|     5|         i think ...|i@think@mi@bf@is@...|\n",
      "+------+--------------------+--------------------+\n",
      "only showing top 5 rows\n",
      "\n"
     ]
    }
   ],
   "source": [
    "ready_data.show(5)"
   ]
  },
  {
   "cell_type": "code",
   "execution_count": 324,
   "metadata": {},
   "outputs": [
    {
     "name": "stdout",
     "output_type": "stream",
     "text": [
      "+---------------------------+\n",
      "|finished_spell             |\n",
      "+---------------------------+\n",
      "|is@so@sad@for@my@apl@friend|\n",
      "+---------------------------+\n",
      "only showing top 1 row\n",
      "\n"
     ]
    }
   ],
   "source": [
    "ready_data.select(\"finished_spell\").show(1, False)"
   ]
  },
  {
   "cell_type": "code",
   "execution_count": 325,
   "metadata": {},
   "outputs": [
    {
     "name": "stdout",
     "output_type": "stream",
     "text": [
      "+------------------------------------------------------------------------------------------------------------------------------------+\n",
      "|original                                                                                                                            |\n",
      "+------------------------------------------------------------------------------------------------------------------------------------+\n",
      "|                     is so sad for my APL friend.............                                                                       |\n",
      "|                   I missed the New Moon trailer...                                                                                 |\n",
      "|              omg its already 7:30 :O                                                                                               |\n",
      "|          .. Omgaga. Im sooo  im gunna CRy. I've been at this dentist since 11.. I was suposed 2 just get a crown put on (30mins)...|\n",
      "|         i think mi bf is cheating on me!!!       T_T                                                                               |\n",
      "+------------------------------------------------------------------------------------------------------------------------------------+\n",
      "only showing top 5 rows\n",
      "\n",
      "+---------------------------------------------------------------------------------------------------+\n",
      "|finished_spell                                                                                     |\n",
      "+---------------------------------------------------------------------------------------------------+\n",
      "|is so sad for my apl friend                                                                        |\n",
      "|i missed the new moon trailer                                                                      |\n",
      "|omg its already o                                                                                  |\n",
      "|omgaga im so im guna cry i ve been at this dentist since i was suposed just get a crown put on mins|\n",
      "|i think mi bf is cheating on me tt                                                                 |\n",
      "+---------------------------------------------------------------------------------------------------+\n",
      "only showing top 5 rows\n",
      "\n"
     ]
    }
   ],
   "source": [
    "from pyspark.sql import functions as F\n",
    "\n",
    "sc_jsl = ready_data.withColumn(\"finished_spell\", \n",
    "                               F.regexp_replace(\"finished_spell\", \"@\", \" \"))\n",
    "sc_jsl.select(\"original\").show(5,False)\n",
    "sc_jsl.select(\"finished_spell\").show(5,False)"
   ]
  },
  {
   "cell_type": "markdown",
   "metadata": {},
   "source": [
    "Get the result of Intellexer Spell Checker"
   ]
  },
  {
   "cell_type": "code",
   "execution_count": 326,
   "metadata": {
    "collapsed": true
   },
   "outputs": [],
   "source": [
    "# Read data with intellexer spell checker\n",
    "corrected_data = spark. \\\n",
    "                 read. \\\n",
    "                 load(\"corrected_text.csv\",\n",
    "                 format=\"com.databricks.spark.csv\",\n",
    "                 header=\"true\")"
   ]
  },
  {
   "cell_type": "code",
   "execution_count": 327,
   "metadata": {},
   "outputs": [
    {
     "name": "stdout",
     "output_type": "stream",
     "text": [
      "+------------------------------------------------------------------------------------------------------------------------+\n",
      "|text                                                                                                                    |\n",
      "+------------------------------------------------------------------------------------------------------------------------+\n",
      "|is so sad for my APL friend.............                                                                                |\n",
      "|I missed the New Moon trailer...                                                                                        |\n",
      "|long its already 7:30:O                                                                                                 |\n",
      "|.. Omgaga. Im so in guns Cy. I 've been at this dentist since 11.. I was supposed 2 just get a crown put on (30 mins)...|\n",
      "|i think my bf is cheating on me!!! T_T                                                                                  |\n",
      "+------------------------------------------------------------------------------------------------------------------------+\n",
      "only showing top 5 rows\n",
      "\n"
     ]
    }
   ],
   "source": [
    "corrected_data.select(\"text\").show(5, False)"
   ]
  },
  {
   "cell_type": "code",
   "execution_count": 328,
   "metadata": {
    "collapsed": true
   },
   "outputs": [],
   "source": [
    "# Create a pipeline just with tokenizer and normalizer of the Intellexer spell checker\n",
    "document_assembler = DocumentAssembler() \\\n",
    "                    .setInputCol(\"text\")\n",
    "\n",
    "tokenizer = Tokenizer() \\\n",
    "            .setInputCols([\"document\"]) \\\n",
    "            .setOutputCol(\"token\")\n",
    "\n",
    "normalizer = Normalizer() \\\n",
    "            .setInputCols([\"token\"]) \\\n",
    "            .setOutputCol(\"normal\")\n",
    "\n",
    "finisher = Finisher() \\\n",
    "           .setInputCols([\"normal\"]) \\\n",
    "           .setIncludeKeys(False)\n",
    "    \n",
    "pipeline = Pipeline(stages=[document_assembler,\n",
    "                           tokenizer,\n",
    "                           normalizer,\n",
    "                           finisher])\n",
    "\n",
    "ready_data = pipeline.fit(corrected_data).transform(corrected_data)"
   ]
  },
  {
   "cell_type": "code",
   "execution_count": 329,
   "metadata": {},
   "outputs": [
    {
     "name": "stdout",
     "output_type": "stream",
     "text": [
      "+------+----------------------------------------+-----------------------------+\n",
      "|itemid|text                                    |finished_normal              |\n",
      "+------+----------------------------------------+-----------------------------+\n",
      "|1     |is so sad for my APL friend.............|is@so@sad@for@my@apl@friend  |\n",
      "|2     |I missed the New Moon trailer...        |i@missed@the@new@moon@trailer|\n",
      "|3     |long its already 7:30:O                 |long@its@already@o           |\n",
      "+------+----------------------------------------+-----------------------------+\n",
      "only showing top 3 rows\n",
      "\n"
     ]
    }
   ],
   "source": [
    "ready_data.show(3, False)"
   ]
  },
  {
   "cell_type": "code",
   "execution_count": 330,
   "metadata": {},
   "outputs": [
    {
     "name": "stdout",
     "output_type": "stream",
     "text": [
      "+------------------------------------------------------------------------------------------------------------------------+\n",
      "|text                                                                                                                    |\n",
      "+------------------------------------------------------------------------------------------------------------------------+\n",
      "|is so sad for my APL friend.............                                                                                |\n",
      "|I missed the New Moon trailer...                                                                                        |\n",
      "|long its already 7:30:O                                                                                                 |\n",
      "|.. Omgaga. Im so in guns Cy. I 've been at this dentist since 11.. I was supposed 2 just get a crown put on (30 mins)...|\n",
      "|i think my bf is cheating on me!!! T_T                                                                                  |\n",
      "+------------------------------------------------------------------------------------------------------------------------+\n",
      "only showing top 5 rows\n",
      "\n",
      "+---------------------------------------------------------------------------------------------------+\n",
      "|finished_normal                                                                                    |\n",
      "+---------------------------------------------------------------------------------------------------+\n",
      "|is so sad for my apl friend                                                                        |\n",
      "|i missed the new moon trailer                                                                      |\n",
      "|long its already o                                                                                 |\n",
      "|omgaga im so in guns cy i ve been at this dentist since i was supposed just get a crown put on mins|\n",
      "|i think my bf is cheating on me tt                                                                 |\n",
      "+---------------------------------------------------------------------------------------------------+\n",
      "only showing top 5 rows\n",
      "\n"
     ]
    }
   ],
   "source": [
    "sc_intellexer = ready_data.withColumn(\"finished_normal\", \n",
    "                                     F.regexp_replace(\"finished_normal\", \"@\", \" \"))\n",
    "sc_intellexer.select(\"text\").show(5,False)\n",
    "sc_intellexer.select(\"finished_normal\").show(5,False)"
   ]
  },
  {
   "cell_type": "code",
   "execution_count": 331,
   "metadata": {},
   "outputs": [
    {
     "name": "stdout",
     "output_type": "stream",
     "text": [
      "+------+----------------------------------------+-----------------------------+\n",
      "|itemid|text                                    |finished_normal              |\n",
      "+------+----------------------------------------+-----------------------------+\n",
      "|1     |is so sad for my APL friend.............|is so sad for my apl friend  |\n",
      "|2     |I missed the New Moon trailer...        |i missed the new moon trailer|\n",
      "|3     |long its already 7:30:O                 |long its already o           |\n",
      "+------+----------------------------------------+-----------------------------+\n",
      "only showing top 3 rows\n",
      "\n"
     ]
    }
   ],
   "source": [
    "sc_intellexer.show(3, False)"
   ]
  },
  {
   "cell_type": "code",
   "execution_count": 332,
   "metadata": {},
   "outputs": [
    {
     "name": "stdout",
     "output_type": "stream",
     "text": [
      "+------+-------------------------------------------------------------+-----------------------------+\n",
      "|itemid|original                                                     |finished_spell               |\n",
      "+------+-------------------------------------------------------------+-----------------------------+\n",
      "|1     |                     is so sad for my APL friend.............|is so sad for my apl friend  |\n",
      "|2     |                   I missed the New Moon trailer...          |i missed the new moon trailer|\n",
      "|3     |              omg its already 7:30 :O                        |omg its already o            |\n",
      "+------+-------------------------------------------------------------+-----------------------------+\n",
      "only showing top 3 rows\n",
      "\n"
     ]
    }
   ],
   "source": [
    "sc_jsl.show(3, False)"
   ]
  },
  {
   "cell_type": "code",
   "execution_count": 333,
   "metadata": {
    "collapsed": true
   },
   "outputs": [],
   "source": [
    "sc_evaluation = sc_intellexer.join(sc_jsl,\n",
    "                                  sc_intellexer.itemid == sc_jsl.itemid)"
   ]
  },
  {
   "cell_type": "code",
   "execution_count": 334,
   "metadata": {},
   "outputs": [
    {
     "name": "stdout",
     "output_type": "stream",
     "text": [
      "+------+--------------------+--------------------+------+--------------------+--------------------+\n",
      "|itemid|                text|     finished_normal|itemid|            original|      finished_spell|\n",
      "+------+--------------------+--------------------+------+--------------------+--------------------+\n",
      "|     1|is so sad for my ...|is so sad for my ...|     1|                 ...|is so sad for my ...|\n",
      "|     2|I missed the New ...|i missed the new ...|     2|                 ...|i missed the new ...|\n",
      "|     3|long its already ...|  long its already o|     3|              omg...|   omg its already o|\n",
      "|     4|.. Omgaga. Im so ...|omgaga im so in g...|     4|          .. Omga...|omgaga im so im g...|\n",
      "|     5|i think my bf is ...|i think my bf is ...|     5|         i think ...|i think mi bf is ...|\n",
      "+------+--------------------+--------------------+------+--------------------+--------------------+\n",
      "only showing top 5 rows\n",
      "\n"
     ]
    }
   ],
   "source": [
    "sc_evaluation.show(5)"
   ]
  },
  {
   "cell_type": "code",
   "execution_count": 335,
   "metadata": {
    "collapsed": true
   },
   "outputs": [],
   "source": [
    "from pyspark.sql import functions as F\n",
    "\n",
    "sc_evaluation = sc_evaluation.select(\"original\",\n",
    "                                     F.col(\"finished_normal\").alias(\"sc_intellexer\"),\n",
    "                                     F.col(\"finished_spell\").alias(\"sc_jsl\"))"
   ]
  },
  {
   "cell_type": "code",
   "execution_count": 336,
   "metadata": {},
   "outputs": [
    {
     "name": "stdout",
     "output_type": "stream",
     "text": [
      "+-------------------------------------------------------------+-----------------------------+-----------------------------+\n",
      "|original                                                     |sc_intellexer                |sc_jsl                       |\n",
      "+-------------------------------------------------------------+-----------------------------+-----------------------------+\n",
      "|                     is so sad for my APL friend.............|is so sad for my apl friend  |is so sad for my apl friend  |\n",
      "|                   I missed the New Moon trailer...          |i missed the new moon trailer|i missed the new moon trailer|\n",
      "|              omg its already 7:30 :O                        |long its already o           |omg its already o            |\n",
      "+-------------------------------------------------------------+-----------------------------+-----------------------------+\n",
      "only showing top 3 rows\n",
      "\n"
     ]
    }
   ],
   "source": [
    "sc_evaluation.show(3, False)"
   ]
  },
  {
   "cell_type": "code",
   "execution_count": 337,
   "metadata": {
    "collapsed": true
   },
   "outputs": [],
   "source": [
    "sc_evaluation = sc_evaluation. \\\n",
    "                withColumn(\"equal\",\n",
    "                           F.when(F.col(\"sc_intellexer\") == F.col(\"sc_jsl\"), 1). \\\n",
    "                           otherwise(0))"
   ]
  },
  {
   "cell_type": "code",
   "execution_count": 338,
   "metadata": {},
   "outputs": [
    {
     "name": "stdout",
     "output_type": "stream",
     "text": [
      "+-------------------------------------------------------------+-----------------------------+-----------------------------+-----+\n",
      "|original                                                     |sc_intellexer                |sc_jsl                       |equal|\n",
      "+-------------------------------------------------------------+-----------------------------+-----------------------------+-----+\n",
      "|                     is so sad for my APL friend.............|is so sad for my apl friend  |is so sad for my apl friend  |1    |\n",
      "|                   I missed the New Moon trailer...          |i missed the new moon trailer|i missed the new moon trailer|1    |\n",
      "|              omg its already 7:30 :O                        |long its already o           |omg its already o            |0    |\n",
      "+-------------------------------------------------------------+-----------------------------+-----------------------------+-----+\n",
      "only showing top 3 rows\n",
      "\n"
     ]
    }
   ],
   "source": [
    "sc_evaluation.show(3, False)"
   ]
  },
  {
   "cell_type": "code",
   "execution_count": 339,
   "metadata": {},
   "outputs": [
    {
     "name": "stdout",
     "output_type": "stream",
     "text": [
      "+--------------------+--------------------+--------------------+-----+\n",
      "|            original|       sc_intellexer|              sc_jsl|equal|\n",
      "+--------------------+--------------------+--------------------+-----+\n",
      "|              omg...|  long its already o|   omg its already o|    0|\n",
      "|          .. Omga...|omgaga im so in g...|omgaga im so im g...|    0|\n",
      "|         i think ...|i think my bf is ...|i think mi bf is ...|    0|\n",
      "|       Juuuuuuuuu...|juuuuuuuuuuuuuuuu...|        just chillin|    0|\n",
      "|      hmmmm.... i...|hmmmm i wonder ho...|hm i wonder how s...|    0|\n",
      "|     jb isnt show...|jab is not showin...|jb isnt showing i...|    0|\n",
      "|     ok thats it ...|  ok that it you win| ok thats it you win|    0|\n",
      "|    awhhe man.......|awe man i m compl...|awhhe man i m com...|    0|\n",
      "|    HUGE roll of ...|huge roll of thun...|huge roll of thun...|    0|\n",
      "|       wompppp wompp|        wompppp womb|           womp womp|    0|\n",
      "|   &lt;---Sad lev...|lt sad level is i...|ltsad level is i ...|    0|\n",
      "|   ...  Headed to...|headed to hospita...|headed to hospito...|    0|\n",
      "|   can't be bothe...|ca n t be bothere...|ca nt be bothered...|    0|\n",
      "|   Feeeling like ...|feeling like shit...|feeeling like shi...|    0|\n",
      "|   I didn't reali...|i did n t realize...|i did nt realize ...|    0|\n",
      "|   My horsie is m...|my horse is movin...|my horsie is movi...|    0|\n",
      "|   No Sat off...N...|no sat off need t...|no sat offneed to...|    0|\n",
      "|   Really Dont Li...|really do n t lik...|really dont like ...|    0|\n",
      "|   what type of a...|what type of a sp...|what type of a sp...|    0|\n",
      "|  &amp;&amp;Fight...|amp ampfightiin w...|ampampfightiin wi...|    0|\n",
      "+--------------------+--------------------+--------------------+-----+\n",
      "only showing top 20 rows\n",
      "\n"
     ]
    }
   ],
   "source": [
    "sc_evaluation.filter(F.col(\"equal\")==0).show()"
   ]
  },
  {
   "cell_type": "code",
   "execution_count": 340,
   "metadata": {},
   "outputs": [
    {
     "name": "stdout",
     "output_type": "stream",
     "text": [
      "145\n"
     ]
    }
   ],
   "source": [
    "diff = sc_evaluation.filter(F.col(\"equal\")==0).count()\n",
    "print(diff)"
   ]
  },
  {
   "cell_type": "code",
   "execution_count": 341,
   "metadata": {},
   "outputs": [
    {
     "name": "stdout",
     "output_type": "stream",
     "text": [
      "51.666666666666664\n"
     ]
    }
   ],
   "source": [
    "acc = 100-(diff*100/300)\n",
    "print(acc)"
   ]
  }
 ],
 "metadata": {
  "kernelspec": {
   "display_name": "Python 3",
   "language": "python",
   "name": "python3"
  },
  "language_info": {
   "codemirror_mode": {
    "name": "ipython",
    "version": 3
   },
   "file_extension": ".py",
   "mimetype": "text/x-python",
   "name": "python",
   "nbconvert_exporter": "python",
   "pygments_lexer": "ipython3",
   "version": "3.6.3"
  }
 },
 "nbformat": 4,
 "nbformat_minor": 2
}
