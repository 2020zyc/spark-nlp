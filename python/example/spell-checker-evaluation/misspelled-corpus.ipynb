{
 "cells": [
  {
   "cell_type": "code",
   "execution_count": 1,
   "metadata": {
    "collapsed": true
   },
   "outputs": [],
   "source": [
    "# Read data with intellexer spell checker\n",
    "data = spark. \\\n",
    "       read. \\\n",
    "       load(\"/home/danilo/Documents/JSL/corpus/spell-testset1.txt\",\n",
    "           format=\"com.databricks.spark.csv\",\n",
    "           header=\"false\")"
   ]
  },
  {
   "cell_type": "code",
   "execution_count": 2,
   "metadata": {},
   "outputs": [
    {
     "name": "stdout",
     "output_type": "stream",
     "text": [
      "+--------------------+\n",
      "|                 _c0|\n",
      "+--------------------+\n",
      "|contented: conten...|\n",
      "| beginning: begining|\n",
      "|problem: problam ...|\n",
      "|      driven: dirven|\n",
      "|ecstasy: exstacy ...|\n",
      "+--------------------+\n",
      "only showing top 5 rows\n",
      "\n"
     ]
    }
   ],
   "source": [
    "data.show(5)"
   ]
  },
  {
   "cell_type": "code",
   "execution_count": 3,
   "metadata": {
    "collapsed": true
   },
   "outputs": [],
   "source": [
    "from pyspark.sql import functions as F\n",
    "\n",
    "split_col = F.split(data['_c0'], ':')\n",
    "data = data.withColumn('word', split_col.getItem(0))\n",
    "data = data.withColumn('misspell', split_col.getItem(1))\n",
    "data = data.select('word', 'misspell')"
   ]
  },
  {
   "cell_type": "code",
   "execution_count": 4,
   "metadata": {},
   "outputs": [
    {
     "name": "stdout",
     "output_type": "stream",
     "text": [
      "+---------+----------------------------------------+\n",
      "|word     |misspell                                |\n",
      "+---------+----------------------------------------+\n",
      "|contented| contenpted contende contended contentid|\n",
      "|beginning| begining                               |\n",
      "|problem  | problam proble promblem proplen        |\n",
      "|driven   | dirven                                 |\n",
      "|ecstasy  | exstacy ecstacy                        |\n",
      "+---------+----------------------------------------+\n",
      "only showing top 5 rows\n",
      "\n"
     ]
    }
   ],
   "source": [
    "data.show(5, False)"
   ]
  },
  {
   "cell_type": "code",
   "execution_count": 5,
   "metadata": {},
   "outputs": [
    {
     "data": {
      "text/html": [
       "<div>\n",
       "<style>\n",
       "    .dataframe thead tr:only-child th {\n",
       "        text-align: right;\n",
       "    }\n",
       "\n",
       "    .dataframe thead th {\n",
       "        text-align: left;\n",
       "    }\n",
       "\n",
       "    .dataframe tbody tr th {\n",
       "        vertical-align: top;\n",
       "    }\n",
       "</style>\n",
       "<table border=\"1\" class=\"dataframe\">\n",
       "  <thead>\n",
       "    <tr style=\"text-align: right;\">\n",
       "      <th></th>\n",
       "      <th>word</th>\n",
       "      <th>misspell</th>\n",
       "    </tr>\n",
       "  </thead>\n",
       "  <tbody>\n",
       "    <tr>\n",
       "      <th>0</th>\n",
       "      <td>contented</td>\n",
       "      <td>contenpted contende contended contentid</td>\n",
       "    </tr>\n",
       "    <tr>\n",
       "      <th>1</th>\n",
       "      <td>beginning</td>\n",
       "      <td>begining</td>\n",
       "    </tr>\n",
       "    <tr>\n",
       "      <th>2</th>\n",
       "      <td>problem</td>\n",
       "      <td>problam proble promblem proplen</td>\n",
       "    </tr>\n",
       "    <tr>\n",
       "      <th>3</th>\n",
       "      <td>driven</td>\n",
       "      <td>dirven</td>\n",
       "    </tr>\n",
       "    <tr>\n",
       "      <th>4</th>\n",
       "      <td>ecstasy</td>\n",
       "      <td>exstacy ecstacy</td>\n",
       "    </tr>\n",
       "  </tbody>\n",
       "</table>\n",
       "</div>"
      ],
      "text/plain": [
       "        word                                  misspell\n",
       "0  contented   contenpted contende contended contentid\n",
       "1  beginning                                  begining\n",
       "2    problem           problam proble promblem proplen\n",
       "3     driven                                    dirven\n",
       "4    ecstasy                           exstacy ecstacy"
      ]
     },
     "execution_count": 5,
     "metadata": {},
     "output_type": "execute_result"
    }
   ],
   "source": [
    "data = data.toPandas()\n",
    "data.head()"
   ]
  },
  {
   "cell_type": "code",
   "execution_count": 6,
   "metadata": {
    "collapsed": true
   },
   "outputs": [],
   "source": [
    "import pandas as pd\n",
    "\n",
    "word_list = []\n",
    "misspell_list = []\n",
    "for index, row in data.iterrows():\n",
    "    word, misspell = row['word'], row['misspell']\n",
    "    misspell = misspell.split(' ')\n",
    "    for m in misspell:\n",
    "        if m != '':\n",
    "            word_list.append(word)\n",
    "            misspell_list.append(m)\n",
    "# Creates a dataframe of misspelled words\n",
    "mw_df = pd.DataFrame({\"word\": word_list, \"misspell\": misspell_list})   "
   ]
  },
  {
   "cell_type": "code",
   "execution_count": 7,
   "metadata": {},
   "outputs": [
    {
     "data": {
      "text/html": [
       "<div>\n",
       "<style>\n",
       "    .dataframe thead tr:only-child th {\n",
       "        text-align: right;\n",
       "    }\n",
       "\n",
       "    .dataframe thead th {\n",
       "        text-align: left;\n",
       "    }\n",
       "\n",
       "    .dataframe tbody tr th {\n",
       "        vertical-align: top;\n",
       "    }\n",
       "</style>\n",
       "<table border=\"1\" class=\"dataframe\">\n",
       "  <thead>\n",
       "    <tr style=\"text-align: right;\">\n",
       "      <th></th>\n",
       "      <th>misspell</th>\n",
       "      <th>word</th>\n",
       "    </tr>\n",
       "  </thead>\n",
       "  <tbody>\n",
       "    <tr>\n",
       "      <th>0</th>\n",
       "      <td>contenpted</td>\n",
       "      <td>contented</td>\n",
       "    </tr>\n",
       "    <tr>\n",
       "      <th>1</th>\n",
       "      <td>contende</td>\n",
       "      <td>contented</td>\n",
       "    </tr>\n",
       "    <tr>\n",
       "      <th>2</th>\n",
       "      <td>contended</td>\n",
       "      <td>contented</td>\n",
       "    </tr>\n",
       "    <tr>\n",
       "      <th>3</th>\n",
       "      <td>contentid</td>\n",
       "      <td>contented</td>\n",
       "    </tr>\n",
       "    <tr>\n",
       "      <th>4</th>\n",
       "      <td>begining</td>\n",
       "      <td>beginning</td>\n",
       "    </tr>\n",
       "  </tbody>\n",
       "</table>\n",
       "</div>"
      ],
      "text/plain": [
       "     misspell       word\n",
       "0  contenpted  contented\n",
       "1    contende  contented\n",
       "2   contended  contented\n",
       "3   contentid  contented\n",
       "4    begining  beginning"
      ]
     },
     "execution_count": 7,
     "metadata": {},
     "output_type": "execute_result"
    }
   ],
   "source": [
    "mw_df.head()"
   ]
  },
  {
   "cell_type": "code",
   "execution_count": 8,
   "metadata": {
    "collapsed": true
   },
   "outputs": [],
   "source": [
    "mw_df.to_csv(\"misspelled_words.csv\", index=False, header=True)"
   ]
  }
 ],
 "metadata": {
  "kernelspec": {
   "display_name": "Python 3",
   "language": "python",
   "name": "python3"
  },
  "language_info": {
   "codemirror_mode": {
    "name": "ipython",
    "version": 3
   },
   "file_extension": ".py",
   "mimetype": "text/x-python",
   "name": "python",
   "nbconvert_exporter": "python",
   "pygments_lexer": "ipython3",
   "version": "3.6.3"
  }
 },
 "nbformat": 4,
 "nbformat_minor": 2
}
